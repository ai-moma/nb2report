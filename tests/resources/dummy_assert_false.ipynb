{
 "cells": [
  {
   "cell_type": "code",
   "execution_count": null,
   "metadata": {},
   "outputs": [],
   "source": [
    "\"\"\"\n",
    "\n",
    "Enter your code here =)\n",
    "\n",
    "\"\"\""
   ]
  },
  {
   "cell_type": "markdown",
   "metadata": {},
   "source": [
    "# Asserts\n",
    "\n",
    "Note: automatic tests will check all asserts to be true"
   ]
  },
  {
   "cell_type": "code",
   "metadata": {},
   "source": ["True == True"]
  },
  {
   "cell_type": "code",
   "metadata": {},
   "source": ["True == False"]
  },
  {
   "cell_type": "code",
   "metadata": {},
   "source": ["True == True"]
  }
 ],
 "metadata": {
  "kernelspec": {
   "display_name": "Python 3",
   "language": "python",
   "name": "python3"
  },
  "language_info": {
   "codemirror_mode": {
    "name": "ipython",
    "version": 3
   },
   "file_extension": ".py",
   "mimetype": "text/x-python",
   "name": "python",
   "nbconvert_exporter": "python",
   "pygments_lexer": "ipython3",
   "version": "3.5.2"
  }
 },
 "nbformat": 4,
 "nbformat_minor": 2
}
